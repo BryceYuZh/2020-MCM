{
 "cells": [
  {
   "cell_type": "code",
   "execution_count": 1,
   "metadata": {},
   "outputs": [],
   "source": [
    "import numpy as np\n",
    "import pandas as pd"
   ]
  },
  {
   "cell_type": "code",
   "execution_count": 5,
   "metadata": {},
   "outputs": [
    {
     "name": "stdout",
     "output_type": "stream",
     "text": [
      "Collecting geopy\n",
      "\u001b[?25l  Downloading https://files.pythonhosted.org/packages/53/fc/3d1b47e8e82ea12c25203929efb1b964918a77067a874b2c7631e2ec35ec/geopy-1.21.0-py2.py3-none-any.whl (104kB)\n",
      "\u001b[K     |████████████████████████████████| 112kB 89kB/s eta 0:00:011\n",
      "\u001b[?25hCollecting geographiclib<2,>=1.49 (from geopy)\n",
      "  Downloading https://files.pythonhosted.org/packages/8b/62/26ec95a98ba64299163199e95ad1b0e34ad3f4e176e221c40245f211e425/geographiclib-1.50-py3-none-any.whl\n",
      "Installing collected packages: geographiclib, geopy\n",
      "Successfully installed geographiclib-1.50 geopy-1.21.0\n"
     ]
    }
   ],
   "source": [
    "!pip install geopy"
   ]
  },
  {
   "cell_type": "code",
   "execution_count": 107,
   "metadata": {},
   "outputs": [
    {
     "name": "stdout",
     "output_type": "stream",
     "text": [
      "34.3582693897104\n"
     ]
    }
   ],
   "source": [
    "from geopy.distance import geodesic\n",
    "\n",
    "print(geodesic((30.72702,104.07513), (30.72672,104.07504)).m) #计算两个坐标直线距离"
   ]
  },
  {
   "cell_type": "code",
   "execution_count": 2,
   "metadata": {},
   "outputs": [],
   "source": [
    "df = pd.read_csv('/Users/zhehaoyu/Desktop/MCM/模考/D/代码/1/gps_20161101') # 导入csv格式文件中的数据\n",
    "\n",
    "df.columns = ['Driver ID','Order ID','Time','Longitude','Latitude']\n",
    "df['Time'] = pd.to_datetime(df['Time'],unit='s')"
   ]
  },
  {
   "cell_type": "code",
   "execution_count": 290,
   "metadata": {},
   "outputs": [],
   "source": [
    "class Order:\n",
    "    def __init__(self, Id, begin, end):\n",
    "        self.order_id = Id\n",
    "        self.begin = begin\n",
    "        self.end = end\n",
    "        \n",
    "        self.vialog = 0\n",
    "        for i in range(self.begin+1, self.end):\n",
    "            self.vialog = self.vialog + geodesic((df['Latitude'][i],df['Longitude'][i]),\n",
    "                                                 (df['Latitude'][i-1],df['Longitude'][i-1])).m\n",
    "        self.time = (df['Time'][end-1] - df['Time'][begin]).seconds"
   ]
  },
  {
   "cell_type": "code",
   "execution_count": 301,
   "metadata": {},
   "outputs": [],
   "source": [
    "class Driver:\n",
    "    def __init__(self, Id, begin, end):\n",
    "        self.driver_id = Id\n",
    "        self.begin = begin\n",
    "        self.end = end\n",
    "        \n",
    "        self.orders = []\n",
    "        \n",
    "        start = self.begin\n",
    "        order_id = df['Order ID'][start]\n",
    "        for i in range(self.begin+1, self.end):\n",
    "            if order_id != df['Order ID'][i]:\n",
    "                \n",
    "                if i != start+1: # the time is not zero\n",
    "                    #print('order id: '+str(order_id)+' begin: '+str(start)+' end: '+str(i))\n",
    "                    self.orders.append(Order(order_id, start, i))\n",
    "                    order_id = df['Order ID'][i]\n",
    "                    start = i\n",
    "                    \n",
    "                else: # ignore this order\n",
    "                    order_id = df['Order ID'][i]\n",
    "                    start = i\n",
    "        if self.end != start+1:           \n",
    "            #print('order id: '+str(order_id)+' begin: '+str(start)+' end: '+str(self.end))\n",
    "            self.orders.append(Order(order_id, start, self.end))\n",
    "        \n",
    "        self.order_num = len(self.orders)\n",
    "        self.driving_vialog = 0\n",
    "        self.speed = -1\n",
    "        self.driving_time = 0\n",
    "        for order in self.orders:\n",
    "            self.driving_time += order.time\n",
    "            self.driving_vialog += order.vialog \n",
    "        \n",
    "        if self.driving_time != 0:\n",
    "            self.speed = self.driving_vialog/self.driving_time"
   ]
  },
  {
   "cell_type": "code",
   "execution_count": 302,
   "metadata": {},
   "outputs": [],
   "source": [
    "def create_driver(df):\n",
    "    count = 0\n",
    "    driver_id = df['Driver ID'][0]\n",
    "    begin = 0\n",
    "    drivers = []\n",
    "    for i in range(df.shape[0]):\n",
    "        if driver_id != df['Driver ID'][i]:\n",
    "            if i % 50 == 1:\n",
    "                #print('driver begin: '+str(begin)+' end: '+str(i))\n",
    "                drivers.append(Driver(df['Driver ID'][begin], begin, i))\n",
    "            # update\n",
    "            begin = i\n",
    "            driver_id = df['Driver ID'][i]\n",
    "    drivers.append(Driver(df['Driver ID'][begin], begin, df.shape[0]))\n",
    "    return drivers"
   ]
  },
  {
   "cell_type": "code",
   "execution_count": 303,
   "metadata": {
    "scrolled": false
   },
   "outputs": [],
   "source": [
    "drivers = create_driver(df)"
   ]
  },
  {
   "cell_type": "code",
   "execution_count": 304,
   "metadata": {},
   "outputs": [
    {
     "data": {
      "text/plain": [
       "722"
      ]
     },
     "execution_count": 304,
     "metadata": {},
     "output_type": "execute_result"
    }
   ],
   "source": [
    "len(drivers)"
   ]
  },
  {
   "cell_type": "code",
   "execution_count": 309,
   "metadata": {
    "scrolled": true
   },
   "outputs": [],
   "source": [
    "speed = 0\n",
    "tot_time = 0\n",
    "mileage = 0\n",
    "order_num = 0\n",
    "\n",
    "for driver in drivers:\n",
    "    speed = speed + driver.speed\n",
    "    tot_time = tot_time + driver.driving_time\n",
    "    mileage = mileage + driver.driving_vialog\n",
    "    order_num = order_num + driver.order_num\n",
    "    \n",
    "speed = speed/len(drivers)"
   ]
  },
  {
   "cell_type": "code",
   "execution_count": 310,
   "metadata": {},
   "outputs": [
    {
     "name": "stdout",
     "output_type": "stream",
     "text": [
      "average speed: 6.48594960802739\n",
      "total driving time: 3669796\n",
      "total mileage: 13653297.830969684\n",
      "number of orders: 4069\n"
     ]
    }
   ],
   "source": [
    "print('average speed: '+str(speed))\n",
    "print('total driving time: '+str(tot_time))\n",
    "print('total mileage: '+str(mileage))\n",
    "print('number of orders: '+str(order_num))"
   ]
  },
  {
   "cell_type": "code",
   "execution_count": 341,
   "metadata": {},
   "outputs": [],
   "source": [
    "alpha = 40\n",
    "beta = 10\n",
    "gamma = 15\n",
    "bcost = 50"
   ]
  },
  {
   "cell_type": "code",
   "execution_count": 342,
   "metadata": {},
   "outputs": [
    {
     "name": "stdout",
     "output_type": "stream",
     "text": [
      "546131913.2387874\n",
      "0.6488332513433569\n"
     ]
    }
   ],
   "source": [
    "rev = alpha*mileage\n",
    "cost = bcost*order_num + beta*mileage + gamma*tot_time\n",
    "\n",
    "eff = (rev - cost)/rev\n",
    "print(rev)\n",
    "print(eff)"
   ]
  },
  {
   "cell_type": "code",
   "execution_count": null,
   "metadata": {},
   "outputs": [],
   "source": []
  }
 ],
 "metadata": {
  "kernelspec": {
   "display_name": "Python 3",
   "language": "python",
   "name": "python3"
  },
  "language_info": {
   "codemirror_mode": {
    "name": "ipython",
    "version": 3
   },
   "file_extension": ".py",
   "mimetype": "text/x-python",
   "name": "python",
   "nbconvert_exporter": "python",
   "pygments_lexer": "ipython3",
   "version": "3.7.3"
  }
 },
 "nbformat": 4,
 "nbformat_minor": 2
}
