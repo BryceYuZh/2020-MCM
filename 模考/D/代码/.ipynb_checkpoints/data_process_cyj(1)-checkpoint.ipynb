{
 "cells": [
  {
   "cell_type": "code",
   "execution_count": 1,
   "metadata": {},
   "outputs": [
    {
     "name": "stdout",
     "output_type": "stream",
     "text": [
      "Hello\n"
     ]
    }
   ],
   "source": [
    "print(\"Hello\")"
   ]
  },
  {
   "cell_type": "code",
   "execution_count": 63,
   "metadata": {},
   "outputs": [
    {
     "data": {
      "text/html": [
       "<div>\n",
       "<style scoped>\n",
       "    .dataframe tbody tr th:only-of-type {\n",
       "        vertical-align: middle;\n",
       "    }\n",
       "\n",
       "    .dataframe tbody tr th {\n",
       "        vertical-align: top;\n",
       "    }\n",
       "\n",
       "    .dataframe thead th {\n",
       "        text-align: right;\n",
       "    }\n",
       "</style>\n",
       "<table border=\"1\" class=\"dataframe\">\n",
       "  <thead>\n",
       "    <tr style=\"text-align: right;\">\n",
       "      <th></th>\n",
       "      <th>times</th>\n",
       "      <th>timee</th>\n",
       "      <th>sl</th>\n",
       "      <th>ss</th>\n",
       "      <th>el</th>\n",
       "      <th>es</th>\n",
       "    </tr>\n",
       "  </thead>\n",
       "  <tbody>\n",
       "    <tr>\n",
       "      <td>count</td>\n",
       "      <td>2.094230e+05</td>\n",
       "      <td>2.094230e+05</td>\n",
       "      <td>209423.000000</td>\n",
       "      <td>209423.000000</td>\n",
       "      <td>209423.000000</td>\n",
       "      <td>209423.000000</td>\n",
       "    </tr>\n",
       "    <tr>\n",
       "      <td>mean</td>\n",
       "      <td>1.477981e+09</td>\n",
       "      <td>1.477983e+09</td>\n",
       "      <td>104.071571</td>\n",
       "      <td>30.673740</td>\n",
       "      <td>104.071380</td>\n",
       "      <td>30.673228</td>\n",
       "    </tr>\n",
       "    <tr>\n",
       "      <td>std</td>\n",
       "      <td>1.930757e+04</td>\n",
       "      <td>1.933026e+04</td>\n",
       "      <td>0.042039</td>\n",
       "      <td>0.039495</td>\n",
       "      <td>0.044456</td>\n",
       "      <td>0.041574</td>\n",
       "    </tr>\n",
       "    <tr>\n",
       "      <td>min</td>\n",
       "      <td>1.477930e+09</td>\n",
       "      <td>1.477930e+09</td>\n",
       "      <td>103.599800</td>\n",
       "      <td>30.321640</td>\n",
       "      <td>103.256350</td>\n",
       "      <td>29.517230</td>\n",
       "    </tr>\n",
       "    <tr>\n",
       "      <td>25%</td>\n",
       "      <td>1.477968e+09</td>\n",
       "      <td>1.477969e+09</td>\n",
       "      <td>104.049650</td>\n",
       "      <td>30.654720</td>\n",
       "      <td>104.049670</td>\n",
       "      <td>30.654050</td>\n",
       "    </tr>\n",
       "    <tr>\n",
       "      <td>50%</td>\n",
       "      <td>1.477982e+09</td>\n",
       "      <td>1.477984e+09</td>\n",
       "      <td>104.073059</td>\n",
       "      <td>30.670736</td>\n",
       "      <td>104.073184</td>\n",
       "      <td>30.670490</td>\n",
       "    </tr>\n",
       "    <tr>\n",
       "      <td>75%</td>\n",
       "      <td>1.477997e+09</td>\n",
       "      <td>1.477998e+09</td>\n",
       "      <td>104.096500</td>\n",
       "      <td>30.693200</td>\n",
       "      <td>104.096610</td>\n",
       "      <td>30.693380</td>\n",
       "    </tr>\n",
       "    <tr>\n",
       "      <td>max</td>\n",
       "      <td>1.478016e+09</td>\n",
       "      <td>1.478031e+09</td>\n",
       "      <td>104.483069</td>\n",
       "      <td>31.014370</td>\n",
       "      <td>104.704311</td>\n",
       "      <td>31.339110</td>\n",
       "    </tr>\n",
       "  </tbody>\n",
       "</table>\n",
       "</div>"
      ],
      "text/plain": [
       "              times         timee             sl             ss  \\\n",
       "count  2.094230e+05  2.094230e+05  209423.000000  209423.000000   \n",
       "mean   1.477981e+09  1.477983e+09     104.071571      30.673740   \n",
       "std    1.930757e+04  1.933026e+04       0.042039       0.039495   \n",
       "min    1.477930e+09  1.477930e+09     103.599800      30.321640   \n",
       "25%    1.477968e+09  1.477969e+09     104.049650      30.654720   \n",
       "50%    1.477982e+09  1.477984e+09     104.073059      30.670736   \n",
       "75%    1.477997e+09  1.477998e+09     104.096500      30.693200   \n",
       "max    1.478016e+09  1.478031e+09     104.483069      31.014370   \n",
       "\n",
       "                  el             es  \n",
       "count  209423.000000  209423.000000  \n",
       "mean      104.071380      30.673228  \n",
       "std         0.044456       0.041574  \n",
       "min       103.256350      29.517230  \n",
       "25%       104.049670      30.654050  \n",
       "50%       104.073184      30.670490  \n",
       "75%       104.096610      30.693380  \n",
       "max       104.704311      31.339110  "
      ]
     },
     "execution_count": 63,
     "metadata": {},
     "output_type": "execute_result"
    }
   ],
   "source": [
    "import numpy\n",
    "import pandas\n",
    "df = pandas.read_csv('order_20161101.csv',encoding=\"utf-8\")\n",
    "df.describe()"
   ]
  },
  {
   "cell_type": "code",
   "execution_count": 77,
   "metadata": {},
   "outputs": [
    {
     "data": {
      "text/html": [
       "<div>\n",
       "<style scoped>\n",
       "    .dataframe tbody tr th:only-of-type {\n",
       "        vertical-align: middle;\n",
       "    }\n",
       "\n",
       "    .dataframe tbody tr th {\n",
       "        vertical-align: top;\n",
       "    }\n",
       "\n",
       "    .dataframe thead th {\n",
       "        text-align: right;\n",
       "    }\n",
       "</style>\n",
       "<table border=\"1\" class=\"dataframe\">\n",
       "  <thead>\n",
       "    <tr style=\"text-align: right;\">\n",
       "      <th></th>\n",
       "      <th>sl</th>\n",
       "      <th>ss</th>\n",
       "    </tr>\n",
       "  </thead>\n",
       "  <tbody>\n",
       "    <tr>\n",
       "      <td>count</td>\n",
       "      <td>418846.000000</td>\n",
       "      <td>418846.000000</td>\n",
       "    </tr>\n",
       "    <tr>\n",
       "      <td>mean</td>\n",
       "      <td>104.071476</td>\n",
       "      <td>30.673484</td>\n",
       "    </tr>\n",
       "    <tr>\n",
       "      <td>std</td>\n",
       "      <td>0.043264</td>\n",
       "      <td>0.040548</td>\n",
       "    </tr>\n",
       "    <tr>\n",
       "      <td>min</td>\n",
       "      <td>103.256350</td>\n",
       "      <td>29.517230</td>\n",
       "    </tr>\n",
       "    <tr>\n",
       "      <td>25%</td>\n",
       "      <td>104.049660</td>\n",
       "      <td>30.654498</td>\n",
       "    </tr>\n",
       "    <tr>\n",
       "      <td>50%</td>\n",
       "      <td>104.073180</td>\n",
       "      <td>30.670630</td>\n",
       "    </tr>\n",
       "    <tr>\n",
       "      <td>75%</td>\n",
       "      <td>104.096560</td>\n",
       "      <td>30.693260</td>\n",
       "    </tr>\n",
       "    <tr>\n",
       "      <td>max</td>\n",
       "      <td>104.704311</td>\n",
       "      <td>31.339110</td>\n",
       "    </tr>\n",
       "  </tbody>\n",
       "</table>\n",
       "</div>"
      ],
      "text/plain": [
       "                  sl             ss\n",
       "count  418846.000000  418846.000000\n",
       "mean      104.071476      30.673484\n",
       "std         0.043264       0.040548\n",
       "min       103.256350      29.517230\n",
       "25%       104.049660      30.654498\n",
       "50%       104.073180      30.670630\n",
       "75%       104.096560      30.693260\n",
       "max       104.704311      31.339110"
      ]
     },
     "execution_count": 77,
     "metadata": {},
     "output_type": "execute_result"
    }
   ],
   "source": [
    "data = df.loc[:,['sl','ss']]\n",
    "data2= df.loc[:, ['el','es']]\n",
    "data2.rename(columns={'el':'sl', 'es':'ss'}, inplace = True)\n",
    "data = data2.append(data, ignore_index = False)\n",
    "data.describe()"
   ]
  },
  {
   "cell_type": "code",
   "execution_count": 104,
   "metadata": {},
   "outputs": [
    {
     "name": "stdout",
     "output_type": "stream",
     "text": [
      "1.4142135623730951\n"
     ]
    }
   ],
   "source": [
    "def sqsq (x, y):\n",
    "    return numpy.sqrt(x*x + y*y)\n",
    "def dist (x1, x2, y1, y2):\n",
    "    return sqsq(x1-y1,x2-y2)"
   ]
  },
  {
   "cell_type": "code",
   "execution_count": 130,
   "metadata": {},
   "outputs": [
    {
     "name": "stdout",
     "output_type": "stream",
     "text": [
      "935\n",
      "935\n"
     ]
    }
   ],
   "source": [
    "print(len(vs))\n",
    "vs2 = vs\n",
    "print(len(vs2))"
   ]
  },
  {
   "cell_type": "code",
   "execution_count": 131,
   "metadata": {},
   "outputs": [],
   "source": [
    "vs = []\n",
    "for index, row in data.iterrows():\n",
    "    flag = True \n",
    "    for v in vs:\n",
    "        if dist(row['sl'], row['ss'], v[0], v[1]) < 0.001 :\n",
    "            flag = False\n",
    "            break\n",
    "    if flag:\n",
    "        vs.append((row['sl'],row['ss']))"
   ]
  },
  {
   "cell_type": "code",
   "execution_count": 0,
   "metadata": {},
   "outputs": [],
   "source": [
    "print(len(vs))"
   ]
  },
  {
   "cell_type": "code",
   "execution_count": 0,
   "metadata": {},
   "outputs": [],
   "source": [
    "import csv\n",
    "\n",
    "with open(\"output.csv\",\"wb\") as f:\n",
    " writer = csv.writer(f)\n",
    " writer.writerows(vs2)"
   ]
  },
  {
   "cell_type": "code",
   "execution_count": null,
   "metadata": {},
   "outputs": [],
   "source": []
  }
 ],
 "metadata": {
  "file_extension": ".py",
  "kernelspec": {
   "display_name": "Python 3",
   "language": "python",
   "name": "python3"
  },
  "language_info": {
   "codemirror_mode": {
    "name": "ipython",
    "version": 3
   },
   "file_extension": ".py",
   "mimetype": "text/x-python",
   "name": "python",
   "nbconvert_exporter": "python",
   "pygments_lexer": "ipython3",
   "version": "3.7.3"
  },
  "mimetype": "text/x-python",
  "name": "python",
  "npconvert_exporter": "python",
  "pygments_lexer": "ipython3",
  "version": 3
 },
 "nbformat": 4,
 "nbformat_minor": 2
}
