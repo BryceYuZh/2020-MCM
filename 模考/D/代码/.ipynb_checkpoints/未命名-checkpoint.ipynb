{
 "cells": [
  {
   "cell_type": "code",
   "execution_count": 1,
   "metadata": {},
   "outputs": [],
   "source": [
    "import numpy as np\n",
    "import pandas as pd\n",
    "from geopy.distance import geodesic"
   ]
  },
  {
   "cell_type": "code",
   "execution_count": 5,
   "metadata": {},
   "outputs": [],
   "source": [
    "class Order:\n",
    "    def __init__(self, Id, begin, end):\n",
    "        self.order_id = Id\n",
    "        self.begin = begin\n",
    "        self.end = end\n",
    "        \n",
    "        self.vialog = 0\n",
    "        for i in range(self.begin+1, self.end):\n",
    "            self.vialog = self.vialog + geodesic((df['Latitude'][i],df['Longitude'][i]),\n",
    "                                                 (df['Latitude'][i-1],df['Longitude'][i-1])).m\n",
    "        self.time = (df['Time'][end-1] - df['Time'][begin]).seconds"
   ]
  },
  {
   "cell_type": "code",
   "execution_count": 6,
   "metadata": {},
   "outputs": [],
   "source": [
    "class Driver:\n",
    "    def __init__(self, Id, begin, end):\n",
    "        self.driver_id = Id\n",
    "        self.begin = begin\n",
    "        self.end = end\n",
    "        \n",
    "        self.orders = []\n",
    "        \n",
    "        start = self.begin\n",
    "        order_id = df['Order ID'][start]\n",
    "        for i in range(self.begin+1, self.end):\n",
    "            if order_id != df['Order ID'][i]:\n",
    "                \n",
    "                if i != start+1: # the time is not zero\n",
    "                    #print('order id: '+str(order_id)+' begin: '+str(start)+' end: '+str(i))\n",
    "                    self.orders.append(Order(order_id, start, i))\n",
    "                    order_id = df['Order ID'][i]\n",
    "                    start = i\n",
    "                    \n",
    "                else: # ignore this order\n",
    "                    order_id = df['Order ID'][i]\n",
    "                    start = i\n",
    "        if self.end != start+1:           \n",
    "            #print('order id: '+str(order_id)+' begin: '+str(start)+' end: '+str(self.end))\n",
    "            self.orders.append(Order(order_id, start, self.end))\n",
    "        \n",
    "        self.order_num = len(self.orders)\n",
    "        self.driving_vialog = 0\n",
    "        self.speed = -1\n",
    "        self.driving_time = 0\n",
    "        for order in self.orders:\n",
    "            self.driving_time += order.time\n",
    "            self.driving_vialog += order.vialog \n",
    "        \n",
    "        if self.driving_time != 0:\n",
    "            self.speed = self.driving_vialog/self.driving_time"
   ]
  },
  {
   "cell_type": "code",
   "execution_count": 7,
   "metadata": {},
   "outputs": [],
   "source": [
    "def create_driver(df):\n",
    "    count = 0\n",
    "    driver_id = df['Driver ID'][0]\n",
    "    begin = 0\n",
    "    drivers = []\n",
    "    for i in range(df.shape[0]):\n",
    "        if driver_id != df['Driver ID'][i]:\n",
    "            if i % 50 == 1:\n",
    "                #print('driver begin: '+str(begin)+' end: '+str(i))\n",
    "                drivers.append(Driver(df['Driver ID'][begin], begin, i))\n",
    "            # update\n",
    "            begin = i\n",
    "            driver_id = df['Driver ID'][i]\n",
    "    drivers.append(Driver(df['Driver ID'][begin], begin, df.shape[0]))\n",
    "    return drivers"
   ]
  },
  {
   "cell_type": "code",
   "execution_count": 8,
   "metadata": {},
   "outputs": [],
   "source": [
    "df = pd.read_csv('/Users/zhehaoyu/Desktop/MCM/模考/D/代码/1/gps_20161102')\n",
    "df.columns = ['Driver ID','Order ID','Time','Longitude','Latitude']\n",
    "df['Time'] = pd.to_datetime(df['Time'],unit='s')"
   ]
  },
  {
   "cell_type": "code",
   "execution_count": null,
   "metadata": {},
   "outputs": [],
   "source": [
    "drivers = create_driver(df)"
   ]
  },
  {
   "cell_type": "code",
   "execution_count": null,
   "metadata": {},
   "outputs": [],
   "source": [
    "speed = 0\n",
    "tot_time = 0\n",
    "mileage = 0\n",
    "order_num = 0\n",
    "\n",
    "for driver in drivers:\n",
    "    speed = speed + driver.speed\n",
    "    tot_time = tot_time + driver.driving_time\n",
    "    mileage = mileage + driver.driving_vialog\n",
    "    order_num = order_num + driver.order_num\n",
    "    \n",
    "speed = speed/len(drivers)"
   ]
  },
  {
   "cell_type": "code",
   "execution_count": null,
   "metadata": {},
   "outputs": [],
   "source": [
    "print('average speed: '+str(speed))\n",
    "print('total driving time: '+str(tot_time))\n",
    "print('total mileage: '+str(mileage))\n",
    "print('number of orders: '+str(order_num))"
   ]
  },
  {
   "cell_type": "code",
   "execution_count": null,
   "metadata": {},
   "outputs": [],
   "source": [
    "alpha = 40\n",
    "beta = 10\n",
    "gamma = 15\n",
    "bcost = 50"
   ]
  },
  {
   "cell_type": "code",
   "execution_count": null,
   "metadata": {},
   "outputs": [],
   "source": [
    "rev = alpha*mileage\n",
    "cost = bcost*order_num + beta*mileage + gamma*tot_time\n",
    "\n",
    "eff = (rev - cost)/rev\n",
    "print(rev)\n",
    "print(eff)"
   ]
  }
 ],
 "metadata": {
  "kernelspec": {
   "display_name": "Python 3",
   "language": "python",
   "name": "python3"
  },
  "language_info": {
   "codemirror_mode": {
    "name": "ipython",
    "version": 3
   },
   "file_extension": ".py",
   "mimetype": "text/x-python",
   "name": "python",
   "nbconvert_exporter": "python",
   "pygments_lexer": "ipython3",
   "version": "3.7.3"
  }
 },
 "nbformat": 4,
 "nbformat_minor": 2
}
