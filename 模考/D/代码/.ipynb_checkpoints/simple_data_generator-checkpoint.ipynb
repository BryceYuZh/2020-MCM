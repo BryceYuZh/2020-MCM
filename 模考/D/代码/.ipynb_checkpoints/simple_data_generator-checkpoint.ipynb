{
 "cells": [
  {
   "cell_type": "markdown",
   "metadata": {},
   "source": [
    "# generate the car data"
   ]
  },
  {
   "cell_type": "code",
   "execution_count": 2,
   "metadata": {},
   "outputs": [],
   "source": [
    "import random, csv\n",
    "headers = ['id', 'pos', 'time']\n",
    "rows = []\n",
    "for i in range(100):\n",
    "    d = {}\n",
    "    d['time'] = 0\n",
    "    d['pos'] = random.randint(0, 42402)\n",
    "    d['id'] = i\n",
    "    rows.append(d)"
   ]
  },
  {
   "cell_type": "code",
   "execution_count": 3,
   "metadata": {},
   "outputs": [],
   "source": [
    "with open('data/car.csv', 'w') as f:\n",
    "    f_csv = csv.DictWriter(f, headers)\n",
    "    f_csv.writeheader()\n",
    "    f_csv.writerows(rows)"
   ]
  },
  {
   "cell_type": "markdown",
   "metadata": {},
   "source": [
    "# generate the passenger data"
   ]
  },
  {
   "cell_type": "code",
   "execution_count": 2,
   "metadata": {},
   "outputs": [],
   "source": [
    "\n",
    "import random, csv,math\n",
    "\n",
    "def random_index():\n",
    "    #\n",
    "    # 参数rate为list<int>\n",
    "    # 返回概率事件的下标索引\n",
    "    start = 0\n",
    "    index = 0\n",
    "    rate = [3551, 2543, 2472, 2138, 2098, 1805, 1505, 1485, 1474, 1470, 1261,1186,  934,  851,  745,  703,  638,  526,  486,  460,  457,  420,333,  326,  307,  305,  302,  294,  290,  274,  260,  258,  238, 214,  195,  191,  178,  168,  160,  158,  143,  135,  131,  115,114,  106,  101,   90,   84,   82,   82,   77,   77,   73,   70,69,   69,   67,   67,   66,   65,   60,   59,   56,   54,   54,53,   51,   51,   48,   48,   46,   46,   46,   45,   43,   41,39,   39,   38,   37,   36,   36,   36,   35,   34,   33,   30,30]\n",
    "    randnum = random.randint(1, sum(rate))\n",
    "\n",
    "    for index, scope in enumerate(rate):\n",
    "        start += scope\n",
    "        if randnum <= start:\n",
    "            break\n",
    "    return index\n",
    "\n",
    "\n",
    "order_day = [209423,214650,218307,237759,242812,221031,218963,224371,224219,226460,251133,245368,220139,225184,231112,239042,238689,259406,257426,237050,227902,232174,235219,237916,257273,256406,242236,238868,247674,247725]\n",
    "\n",
    "order_hour = [5.039184008,6.461382653,6.101613175,5.731716139,5.680113814,6.916640544,7.090738106,6.322490415,6.168165706,6.404475417,5.995032673,5.698922138,5.212317041,5.044971185,4.152299197,2.463408165,1.73470618,1.06580502,0.671312483,0.427768802,0.431144655,0.406549155,0.906657664,3.872585662]\n",
    "\n",
    "pos_start = [13951, 24887, 25229, 25912,  6456, 25402, 37248,  4371, 13059,6104, 20129, 14958, 40862, 40789, 41147,  7822, 25794, 28525,10500, 30559, 28051, 25911, 21448, 21307, 22218, 18229, 35110,36367, 29426, 33660, 32707, 20011, 34140, 18377, 20360, 33225,38234, 35050, 28745, 18351, 18578, 30939, 30717,  7913, 39940,15292, 39660, 34670, 39807, 38804, 40593, 42345, 33838, 26122,42203, 33017, 39266,   957, 40308, 32465, 22283, 16266, 22339,27793, 24138, 27897, 37423,   250, 28325, 20986, 29206, 29200,20631, 39607, 25433, 39276, 29927, 38919,  7516,  5270, 42333,20664, 21463,  1137, 31446,  6946, 40017, 15658, 29896]\n",
    "\n",
    "day = 0\n",
    "\n",
    "headers = ['id', 'bgn', 'end', 'time']\n",
    "rows = []\n",
    "num = list(range(24))\n",
    "\n",
    "k=0\n",
    "\n",
    "for j in range(24):\n",
    "    num[j] = int( order_hour[j] * order_day[day])\n",
    "\n",
    "    for i in range(num[j]):\n",
    "        d = {}\n",
    "        d['end'] = random.randint(0, 42402)\n",
    "        d['time'] = random.randint(1, 60)*60+num[j]*60*60\n",
    "        d['bgn'] = pos_start[random_index()]\n",
    "\n",
    "        k=k+1\n",
    "        rows.append(d)"
   ]
  },
  {
   "cell_type": "code",
   "execution_count": 0,
   "metadata": {},
   "outputs": [],
   "source": [
    "with open('data/order.csv', 'w') as f:\n",
    "    f_csv = csv.DictWriter(f, headers)\n",
    "    f_csv.writeheader()\n",
    "    f_csv.writerows(rows)"
   ]
  },
  {
   "cell_type": "code",
   "execution_count": null,
   "metadata": {},
   "outputs": [],
   "source": []
  }
 ],
 "metadata": {
  "file_extension": ".py",
  "kernelspec": {
   "display_name": "Python 3",
   "language": "python",
   "name": "python3"
  },
  "language_info": {
   "codemirror_mode": {
    "name": "ipython",
    "version": 3
   },
   "file_extension": ".py",
   "mimetype": "text/x-python",
   "name": "python",
   "nbconvert_exporter": "python",
   "pygments_lexer": "ipython3",
   "version": "3.7.3"
  },
  "mimetype": "text/x-python",
  "name": "python",
  "npconvert_exporter": "python",
  "pygments_lexer": "ipython3",
  "version": 3
 },
 "nbformat": 4,
 "nbformat_minor": 2
}
