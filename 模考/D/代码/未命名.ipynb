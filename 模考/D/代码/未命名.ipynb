{
 "cells": [
  {
   "cell_type": "code",
   "execution_count": 74,
   "metadata": {},
   "outputs": [],
   "source": [
    "import numpy as np\n",
    "import pandas as pd\n",
    "from geopy.distance import geodesic\n",
    "import matplotlib.pyplot as plt"
   ]
  },
  {
   "cell_type": "code",
   "execution_count": 5,
   "metadata": {},
   "outputs": [],
   "source": [
    "class Order:\n",
    "    def __init__(self, Id, begin, end):\n",
    "        self.order_id = Id\n",
    "        self.begin = begin\n",
    "        self.end = end\n",
    "        \n",
    "        self.vialog = 0\n",
    "        for i in range(self.begin+1, self.end):\n",
    "            self.vialog = self.vialog + geodesic((df['Latitude'][i],df['Longitude'][i]),\n",
    "                                                 (df['Latitude'][i-1],df['Longitude'][i-1])).m\n",
    "        self.time = (df['Time'][end-1] - df['Time'][begin]).seconds"
   ]
  },
  {
   "cell_type": "code",
   "execution_count": 6,
   "metadata": {},
   "outputs": [],
   "source": [
    "class Driver:\n",
    "    def __init__(self, Id, begin, end):\n",
    "        self.driver_id = Id\n",
    "        self.begin = begin\n",
    "        self.end = end\n",
    "        \n",
    "        self.orders = []\n",
    "        \n",
    "        start = self.begin\n",
    "        order_id = df['Order ID'][start]\n",
    "        for i in range(self.begin+1, self.end):\n",
    "            if order_id != df['Order ID'][i]:\n",
    "                \n",
    "                if i != start+1: # the time is not zero\n",
    "                    #print('order id: '+str(order_id)+' begin: '+str(start)+' end: '+str(i))\n",
    "                    self.orders.append(Order(order_id, start, i))\n",
    "                    order_id = df['Order ID'][i]\n",
    "                    start = i\n",
    "                    \n",
    "                else: # ignore this order\n",
    "                    order_id = df['Order ID'][i]\n",
    "                    start = i\n",
    "        if self.end != start+1:           \n",
    "            #print('order id: '+str(order_id)+' begin: '+str(start)+' end: '+str(self.end))\n",
    "            self.orders.append(Order(order_id, start, self.end))\n",
    "        \n",
    "        self.order_num = len(self.orders)\n",
    "        self.driving_vialog = 0\n",
    "        self.speed = -1\n",
    "        self.driving_time = 0\n",
    "        for order in self.orders:\n",
    "            self.driving_time += order.time\n",
    "            self.driving_vialog += order.vialog \n",
    "        \n",
    "        if self.driving_time != 0:\n",
    "            self.speed = self.driving_vialog/self.driving_time"
   ]
  },
  {
   "cell_type": "code",
   "execution_count": 7,
   "metadata": {},
   "outputs": [],
   "source": [
    "def create_driver(df):\n",
    "    count = 0\n",
    "    driver_id = df['Driver ID'][0]\n",
    "    begin = 0\n",
    "    drivers = []\n",
    "    for i in range(df.shape[0]):\n",
    "        if driver_id != df['Driver ID'][i]:\n",
    "            if i % 50 == 1:\n",
    "                #print('driver begin: '+str(begin)+' end: '+str(i))\n",
    "                drivers.append(Driver(df['Driver ID'][begin], begin, i))\n",
    "            # update\n",
    "            begin = i\n",
    "            driver_id = df['Driver ID'][i]\n",
    "    drivers.append(Driver(df['Driver ID'][begin], begin, df.shape[0]))\n",
    "    return drivers"
   ]
  },
  {
   "cell_type": "code",
   "execution_count": 52,
   "metadata": {},
   "outputs": [],
   "source": [
    "df = pd.read_csv('/Users/zhehaoyu/Desktop/MCM/模考/D/代码/1/gps_20161107')\n",
    "df.columns = ['Driver ID','Order ID','Time','Longitude','Latitude']\n",
    "df['Time'] = pd.to_datetime(df['Time'],unit='s')"
   ]
  },
  {
   "cell_type": "code",
   "execution_count": 53,
   "metadata": {},
   "outputs": [],
   "source": [
    "drivers = create_driver(df)"
   ]
  },
  {
   "cell_type": "code",
   "execution_count": 54,
   "metadata": {},
   "outputs": [],
   "source": [
    "speed = 0\n",
    "tot_time = 0\n",
    "mileage = 0\n",
    "order_num = 0\n",
    "\n",
    "for driver in drivers:\n",
    "    speed = speed + driver.speed\n",
    "    tot_time = tot_time + driver.driving_time\n",
    "    mileage = mileage + driver.driving_vialog\n",
    "    order_num = order_num + driver.order_num\n",
    "    \n",
    "speed = speed/len(drivers)"
   ]
  },
  {
   "cell_type": "code",
   "execution_count": 55,
   "metadata": {},
   "outputs": [
    {
     "name": "stdout",
     "output_type": "stream",
     "text": [
      "average speed: 6.119167176511056\n",
      "total driving time: 3576970\n",
      "total mileage: 13854862.834181307\n",
      "number of orders: 4289\n"
     ]
    }
   ],
   "source": [
    "print('average speed: '+str(speed))\n",
    "print('total driving time: '+str(tot_time))\n",
    "print('total mileage: '+str(mileage))\n",
    "print('number of orders: '+str(order_num))"
   ]
  },
  {
   "cell_type": "code",
   "execution_count": 48,
   "metadata": {},
   "outputs": [],
   "source": [
    "alpha = 40\n",
    "beta = 10\n",
    "gamma = 15\n",
    "bcost = 50"
   ]
  },
  {
   "cell_type": "code",
   "execution_count": 56,
   "metadata": {},
   "outputs": [
    {
     "name": "stdout",
     "output_type": "stream",
     "text": [
      "554194513.3672522\n",
      "0.6527976663415608\n"
     ]
    }
   ],
   "source": [
    "rev = alpha*mileage\n",
    "cost = bcost*order_num + beta*mileage + gamma*tot_time\n",
    "\n",
    "eff = (rev - cost)/rev\n",
    "print(rev)\n",
    "print(eff)"
   ]
  },
  {
   "cell_type": "code",
   "execution_count": 23,
   "metadata": {},
   "outputs": [],
   "source": [
    "efficiency=[]"
   ]
  },
  {
   "cell_type": "code",
   "execution_count": 57,
   "metadata": {},
   "outputs": [],
   "source": [
    "efficiency.append(eff)"
   ]
  },
  {
   "cell_type": "code",
   "execution_count": 58,
   "metadata": {
    "scrolled": false
   },
   "outputs": [
    {
     "name": "stdout",
     "output_type": "stream",
     "text": [
      "0.6488332513433569\n",
      "0.6427405204623808\n",
      "0.6253864730081432\n",
      "0.6478533931142141\n",
      "0.6453465962261807\n",
      "0.6477295363937667\n",
      "0.6527976663415608\n"
     ]
    }
   ],
   "source": [
    "for eff in efficiency:\n",
    "    print(eff)"
   ]
  },
  {
   "cell_type": "code",
   "execution_count": 64,
   "metadata": {},
   "outputs": [],
   "source": [
    "a = [0.6527976663415608]+efficiency[:-1]"
   ]
  },
  {
   "cell_type": "code",
   "execution_count": 65,
   "metadata": {},
   "outputs": [
    {
     "data": {
      "text/plain": [
       "[0.6527976663415608,\n",
       " 0.6488332513433569,\n",
       " 0.6427405204623808,\n",
       " 0.6253864730081432,\n",
       " 0.6478533931142141,\n",
       " 0.6453465962261807,\n",
       " 0.6477295363937667]"
      ]
     },
     "execution_count": 65,
     "metadata": {},
     "output_type": "execute_result"
    }
   ],
   "source": [
    "plt.plot"
   ]
  },
  {
   "cell_type": "code",
   "execution_count": 68,
   "metadata": {},
   "outputs": [],
   "source": [
    "wd = range(1,8)"
   ]
  },
  {
   "cell_type": "code",
   "execution_count": 78,
   "metadata": {},
   "outputs": [
    {
     "data": {
      "text/plain": [
       "[<matplotlib.lines.Line2D at 0x7fc36f0f75c0>]"
      ]
     },
     "execution_count": 78,
     "metadata": {},
     "output_type": "execute_result"
    },
    {
     "data": {
      "image/png": "[encoded data removed]",
      "text/plain": [
       "<Figure size 432x288 with 1 Axes>"
      ]
     },
     "metadata": {
      "needs_background": "light"
     },
     "output_type": "display_data"
    }
   ],
   "source": [
    "plt.ylim(0.5,0.8)\n",
    "plt.plot(wd,a)"
   ]
  },
  {
   "cell_type": "code",
   "execution_count": null,
   "metadata": {},
   "outputs": [],
   "source": []
  }
 ],
 "metadata": {
  "kernelspec": {
   "display_name": "Python 3",
   "language": "python",
   "name": "python3"
  },
  "language_info": {
   "codemirror_mode": {
    "name": "ipython",
    "version": 3
   },
   "file_extension": ".py",
   "mimetype": "text/x-python",
   "name": "python",
   "nbconvert_exporter": "python",
   "pygments_lexer": "ipython3",
   "version": "3.7.3"
  }
 },
 "nbformat": 4,
 "nbformat_minor": 2
}
